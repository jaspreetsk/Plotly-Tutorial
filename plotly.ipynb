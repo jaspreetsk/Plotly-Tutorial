{
 "cells": [
  {
   "cell_type": "markdown",
   "id": "2339fc80",
   "metadata": {},
   "source": [
    "# Plotly "
   ]
  },
  {
   "cell_type": "markdown",
   "id": "61730b65",
   "metadata": {},
   "source": [
    "### Import"
   ]
  },
  {
   "cell_type": "code",
   "execution_count": null,
   "id": "62b272a0",
   "metadata": {},
   "outputs": [],
   "source": [
    "import plotly_express as px\n",
    "import pandas as pd"
   ]
  },
  {
   "cell_type": "markdown",
   "id": "90ffce5b",
   "metadata": {},
   "source": [
    "### Bar Plot"
   ]
  },
  {
   "cell_type": "code",
   "execution_count": null,
   "id": "acb7d368",
   "metadata": {},
   "outputs": [],
   "source": [
    "df=pd.read_csv('sample_data.csv')\n",
    "df.head()"
   ]
  },
  {
   "cell_type": "code",
   "execution_count": null,
   "id": "748f0835",
   "metadata": {},
   "outputs": [],
   "source": [
    "df.Country.value_counts()"
   ]
  },
  {
   "cell_type": "code",
   "execution_count": null,
   "id": "b2857fe6",
   "metadata": {},
   "outputs": [],
   "source": [
    "px.bar(df,x='Country',color='Country')"
   ]
  },
  {
   "cell_type": "code",
   "execution_count": null,
   "id": "c78eedb4",
   "metadata": {},
   "outputs": [],
   "source": [
    "px.bar(df,x='Country',color='Country',color_discrete_sequence=['red','blue','green','purple','orange'])"
   ]
  },
  {
   "cell_type": "code",
   "execution_count": null,
   "id": "08ec602b",
   "metadata": {},
   "outputs": [],
   "source": [
    "data=df.groupby(['Country']).size().rename('Count').reset_index()"
   ]
  },
  {
   "cell_type": "code",
   "execution_count": null,
   "id": "e10ed035",
   "metadata": {},
   "outputs": [],
   "source": [
    "data.head()"
   ]
  },
  {
   "cell_type": "code",
   "execution_count": null,
   "id": "4481a6ed",
   "metadata": {},
   "outputs": [],
   "source": [
    "px.bar(data,x='Country',y='Count',color='Country',text='Count')"
   ]
  },
  {
   "cell_type": "code",
   "execution_count": null,
   "id": "bb61575a",
   "metadata": {},
   "outputs": [],
   "source": [
    "px.data.gapminder()"
   ]
  },
  {
   "cell_type": "code",
   "execution_count": null,
   "id": "b8928c96",
   "metadata": {},
   "outputs": [],
   "source": [
    "data_canada=px.data.gapminder().query(\"country=='Canada'\")"
   ]
  },
  {
   "cell_type": "code",
   "execution_count": null,
   "id": "185b4431",
   "metadata": {},
   "outputs": [],
   "source": [
    "data_canada"
   ]
  },
  {
   "cell_type": "code",
   "execution_count": null,
   "id": "020510dc",
   "metadata": {},
   "outputs": [],
   "source": [
    "px.bar(data_canada,x='year',y='pop')"
   ]
  },
  {
   "cell_type": "code",
   "execution_count": null,
   "id": "56eebbb3",
   "metadata": {},
   "outputs": [],
   "source": [
    "px.bar(data_canada,x='year',y='pop',text='year')"
   ]
  },
  {
   "cell_type": "code",
   "execution_count": null,
   "id": "891fa43b",
   "metadata": {},
   "outputs": [],
   "source": [
    "px.bar(data_canada,x='year',y='pop',\n",
    "       hover_data=['lifeExp','gdpPercap'],color='lifeExp',\n",
    "       labels={'pop':'Population of Canada'},height=400)"
   ]
  },
  {
   "cell_type": "code",
   "execution_count": null,
   "id": "9f029c2e",
   "metadata": {},
   "outputs": [],
   "source": [
    "long_data=px.data.medals_long()\n",
    "long_data"
   ]
  },
  {
   "cell_type": "code",
   "execution_count": null,
   "id": "d4ece9c2",
   "metadata": {},
   "outputs": [],
   "source": [
    "px.bar(long_data,x='nation',y='count',color='medal',title='Long Format Data',color_discrete_sequence=['#ffd700','#848482','#633807'])"
   ]
  },
  {
   "cell_type": "code",
   "execution_count": null,
   "id": "1ed0c1ea",
   "metadata": {},
   "outputs": [],
   "source": [
    "wide_data=px.data.medals_wide()\n",
    "wide_data"
   ]
  },
  {
   "cell_type": "code",
   "execution_count": null,
   "id": "7c418f67",
   "metadata": {},
   "outputs": [],
   "source": [
    "px.bar(wide_data,x='nation',y=['gold','silver','bronze'],color_discrete_sequence=['#ffd700','#848482','#633807'],\n",
    "       title='Wide Format Data')"
   ]
  },
  {
   "cell_type": "code",
   "execution_count": null,
   "id": "b485722d",
   "metadata": {},
   "outputs": [],
   "source": [
    "px.bar(long_data,x='medal',y='count',pattern_shape_sequence='x',color='nation')"
   ]
  },
  {
   "cell_type": "markdown",
   "id": "e8ae9930",
   "metadata": {},
   "source": [
    "### Line Plot"
   ]
  },
  {
   "cell_type": "code",
   "execution_count": null,
   "id": "6a07cc8b",
   "metadata": {},
   "outputs": [],
   "source": [
    "px.data.gapminder()"
   ]
  },
  {
   "cell_type": "code",
   "execution_count": null,
   "id": "166eb558",
   "metadata": {},
   "outputs": [],
   "source": [
    "df=px.data.gapminder().query(\"country=='Canada'\")"
   ]
  },
  {
   "cell_type": "code",
   "execution_count": null,
   "id": "25103863",
   "metadata": {},
   "outputs": [],
   "source": [
    "fig=px.line(df,x='year',y='lifeExp',title='Life Expectancy in Canada')\n",
    "fig.show()"
   ]
  },
  {
   "cell_type": "code",
   "execution_count": null,
   "id": "6fe13128",
   "metadata": {},
   "outputs": [],
   "source": [
    "df=px.data.gapminder().query(\"continent=='Oceania'\")\n",
    "df.head()"
   ]
  },
  {
   "cell_type": "code",
   "execution_count": null,
   "id": "ee17642b",
   "metadata": {},
   "outputs": [],
   "source": [
    "fig=px.line(df,x='year',y='lifeExp',color='country')\n",
    "fig.show()"
   ]
  },
  {
   "cell_type": "code",
   "execution_count": null,
   "id": "3bed04ad",
   "metadata": {},
   "outputs": [],
   "source": [
    "fig=px.line(df,x='year',y='lifeExp',color='country',markers=True)\n",
    "fig.show()"
   ]
  },
  {
   "cell_type": "code",
   "execution_count": null,
   "id": "bc45531e",
   "metadata": {},
   "outputs": [],
   "source": [
    "df=px.data.stocks()\n",
    "df.head()"
   ]
  },
  {
   "cell_type": "code",
   "execution_count": null,
   "id": "436e0805",
   "metadata": {},
   "outputs": [],
   "source": [
    "fig=px.line(df,x='date',y='GOOG')\n",
    "fig.show()"
   ]
  },
  {
   "cell_type": "code",
   "execution_count": null,
   "id": "33eb39f1",
   "metadata": {},
   "outputs": [],
   "source": [
    "fig=px.line(df,x='date',y='AMZN')\n",
    "fig.show()"
   ]
  },
  {
   "cell_type": "code",
   "execution_count": null,
   "id": "886a304b",
   "metadata": {},
   "outputs": [],
   "source": [
    "df=px.data.gapminder().query(\"country in ['Canada','Botswana']\")\n",
    "df.head()"
   ]
  },
  {
   "cell_type": "code",
   "execution_count": null,
   "id": "0c968842",
   "metadata": {},
   "outputs": [],
   "source": [
    "df.tail()"
   ]
  },
  {
   "cell_type": "code",
   "execution_count": null,
   "id": "aa4e8874",
   "metadata": {},
   "outputs": [],
   "source": [
    "df[\"country\"].value_counts()"
   ]
  },
  {
   "cell_type": "code",
   "execution_count": null,
   "id": "0c6ab333",
   "metadata": {},
   "outputs": [],
   "source": [
    "fig=px.line(df,x='lifeExp',y='gdpPercap',color='country',text='year')\n",
    "fig.show()"
   ]
  },
  {
   "cell_type": "markdown",
   "id": "f6d39700",
   "metadata": {},
   "source": [
    "### Scatter Plot"
   ]
  },
  {
   "cell_type": "code",
   "execution_count": null,
   "id": "65514ade",
   "metadata": {},
   "outputs": [],
   "source": [
    "fig=px.scatter(x=[0,1,2,3,4,5],y=[0,2,4,6,8,10])\n",
    "fig.show()"
   ]
  },
  {
   "cell_type": "code",
   "execution_count": null,
   "id": "550a83b2",
   "metadata": {},
   "outputs": [],
   "source": [
    "df=px.data.iris()\n",
    "df.head()"
   ]
  },
  {
   "cell_type": "code",
   "execution_count": null,
   "id": "c7349e3a",
   "metadata": {},
   "outputs": [],
   "source": [
    "fig=px.scatter(df,x='sepal_width',y='sepal_length')\n",
    "fig.show()"
   ]
  },
  {
   "cell_type": "code",
   "execution_count": null,
   "id": "268bbfa8",
   "metadata": {},
   "outputs": [],
   "source": [
    "fig=px.scatter(df,x='sepal_width',y='sepal_length',color='species')\n",
    "fig.show()"
   ]
  },
  {
   "cell_type": "code",
   "execution_count": null,
   "id": "d4453d62",
   "metadata": {},
   "outputs": [],
   "source": [
    "fig=px.scatter(df,x='sepal_width',y='sepal_length',color='species',size='petal_length')\n",
    "fig.show()"
   ]
  },
  {
   "cell_type": "code",
   "execution_count": null,
   "id": "163eb904",
   "metadata": {},
   "outputs": [],
   "source": [
    "fig=px.scatter(df,x='sepal_width',y='sepal_length',color='species',size='petal_width')\n",
    "fig.show()"
   ]
  },
  {
   "cell_type": "code",
   "execution_count": null,
   "id": "a7344a31",
   "metadata": {},
   "outputs": [],
   "source": [
    "fig=px.scatter(df,x='sepal_width',y='sepal_length',color='petal_length')\n",
    "fig.show()"
   ]
  },
  {
   "cell_type": "code",
   "execution_count": null,
   "id": "9bd67588",
   "metadata": {},
   "outputs": [],
   "source": [
    "fig=px.scatter(df,x='sepal_width',y='sepal_length',color='species',symbol='species')\n",
    "fig.show()"
   ]
  },
  {
   "cell_type": "code",
   "execution_count": null,
   "id": "1e6dee2e",
   "metadata": {},
   "outputs": [],
   "source": [
    "df_new=px.data.tips()\n",
    "df_new"
   ]
  },
  {
   "cell_type": "code",
   "execution_count": null,
   "id": "70c1a478",
   "metadata": {},
   "outputs": [],
   "source": [
    "fig=px.scatter(df_new,x='total_bill',y='tip',color='smoker',facet_col='sex',facet_row='time')\n",
    "fig.show()"
   ]
  },
  {
   "cell_type": "markdown",
   "id": "0653b364",
   "metadata": {},
   "source": [
    "### Creating a modular distribution plot"
   ]
  },
  {
   "cell_type": "code",
   "execution_count": null,
   "id": "7712c1d3",
   "metadata": {},
   "outputs": [],
   "source": [
    "fig=px.scatter(df,x='sepal_length',y='sepal_width',marginal_x='histogram',marginal_y='rug')\n",
    "fig.show()"
   ]
  },
  {
   "cell_type": "markdown",
   "id": "86b7fea5",
   "metadata": {},
   "source": [
    "### Creating a regression/trend line"
   ]
  },
  {
   "cell_type": "code",
   "execution_count": null,
   "id": "47757b75",
   "metadata": {},
   "outputs": [],
   "source": [
    "df=px.data.tips()\n",
    "fig=px.scatter(df,x='total_bill',y='tip',trendline='ols')\n",
    "fig.show()"
   ]
  },
  {
   "cell_type": "markdown",
   "id": "0d5895b2",
   "metadata": {},
   "source": [
    "### Histogram"
   ]
  },
  {
   "cell_type": "code",
   "execution_count": null,
   "id": "93124d68",
   "metadata": {},
   "outputs": [],
   "source": [
    "df=px.data.tips()\n",
    "df.head()"
   ]
  },
  {
   "cell_type": "code",
   "execution_count": null,
   "id": "8f2307e4",
   "metadata": {},
   "outputs": [],
   "source": [
    "fig=px.histogram(df,x='total_bill')\n",
    "fig.show()"
   ]
  },
  {
   "cell_type": "code",
   "execution_count": null,
   "id": "022e432d",
   "metadata": {},
   "outputs": [],
   "source": [
    "fig=px.histogram(df,x='day')\n",
    "fig.show()"
   ]
  },
  {
   "cell_type": "code",
   "execution_count": null,
   "id": "b5c684f5",
   "metadata": {},
   "outputs": [],
   "source": [
    "fig=px.histogram(df,x='total_bill',nbins=23)\n",
    "fig.show()"
   ]
  },
  {
   "cell_type": "code",
   "execution_count": null,
   "id": "4b2b4d53",
   "metadata": {},
   "outputs": [],
   "source": [
    "stocks=px.data.stocks()\n",
    "stocks.head()"
   ]
  },
  {
   "cell_type": "code",
   "execution_count": null,
   "id": "31a8b534",
   "metadata": {},
   "outputs": [],
   "source": [
    "fig=px.histogram(stocks,x='date')\n",
    "fig.update_layout(bargap=0.5)\n",
    "fig.show()"
   ]
  },
  {
   "cell_type": "code",
   "execution_count": null,
   "id": "95073513",
   "metadata": {},
   "outputs": [],
   "source": [
    "fig=px.histogram(df,x='total_bill',histnorm='probability density')\n",
    "fig.show()"
   ]
  },
  {
   "cell_type": "code",
   "execution_count": null,
   "id": "e9c19762",
   "metadata": {},
   "outputs": [],
   "source": [
    "fig=px.histogram(df,x='total_bill',histnorm='percent')\n",
    "fig.show()"
   ]
  },
  {
   "cell_type": "code",
   "execution_count": null,
   "id": "db6022cc",
   "metadata": {},
   "outputs": [],
   "source": [
    "fig=px.histogram(df,x='total_bill',color='sex')\n",
    "fig.show()"
   ]
  },
  {
   "cell_type": "code",
   "execution_count": null,
   "id": "9650ce1e",
   "metadata": {},
   "outputs": [],
   "source": [
    "fig=px.histogram(df,x='total_bill',y='tip',histfunc='avg')\n",
    "fig.show()"
   ]
  },
  {
   "cell_type": "code",
   "execution_count": null,
   "id": "3900ba25",
   "metadata": {},
   "outputs": [],
   "source": [
    "fig=px.histogram(df,x='sex',y='total_bill',color='sex',pattern_shape='smoker')\n",
    "fig.show()"
   ]
  },
  {
   "cell_type": "code",
   "execution_count": null,
   "id": "9bfd0289",
   "metadata": {},
   "outputs": [],
   "source": [
    "fig=px.histogram(df,x='total_bill',y='tip',histfunc='avg',nbins=8,text_auto=True)\n",
    "fig.show()"
   ]
  },
  {
   "cell_type": "markdown",
   "id": "370208fc",
   "metadata": {},
   "source": [
    "### Boxplot"
   ]
  },
  {
   "cell_type": "code",
   "execution_count": null,
   "id": "fb4844e6",
   "metadata": {},
   "outputs": [],
   "source": [
    "df=px.data.tips()\n",
    "df.head()"
   ]
  },
  {
   "cell_type": "code",
   "execution_count": null,
   "id": "6fbe9b1e",
   "metadata": {},
   "outputs": [],
   "source": [
    "fig=px.box(df,y='total_bill')\n",
    "fig.show()"
   ]
  },
  {
   "cell_type": "code",
   "execution_count": null,
   "id": "1857a282",
   "metadata": {},
   "outputs": [],
   "source": [
    "fig=px.box(df,x='time',y='total_bill')\n",
    "fig.show()"
   ]
  },
  {
   "cell_type": "code",
   "execution_count": null,
   "id": "6ee5fe9d",
   "metadata": {},
   "outputs": [],
   "source": [
    "fig=px.box(df,x='time',y='total_bill',points='all')\n",
    "fig.show()"
   ]
  },
  {
   "cell_type": "code",
   "execution_count": null,
   "id": "a420462c",
   "metadata": {},
   "outputs": [],
   "source": [
    "fig=px.box(df,x='time',y='total_bill',color='smoker')\n",
    "fig.show()"
   ]
  },
  {
   "cell_type": "code",
   "execution_count": null,
   "id": "b405dab9",
   "metadata": {},
   "outputs": [],
   "source": [
    "fig=px.box(df,x='time',y='total_bill',points='outliers',color='smoker',notched=True,\n",
    "           title='Box Plot of Total Bill',hover_data=['day'])\n",
    "fig.show()"
   ]
  },
  {
   "cell_type": "code",
   "execution_count": null,
   "id": "82af3b99",
   "metadata": {},
   "outputs": [],
   "source": [
    "fig=px.strip(df,x='day',y='tip')\n",
    "fig.show()"
   ]
  },
  {
   "cell_type": "markdown",
   "id": "cabc43c4",
   "metadata": {},
   "source": [
    "### Violin Plot"
   ]
  },
  {
   "cell_type": "code",
   "execution_count": null,
   "id": "ac01adfd",
   "metadata": {},
   "outputs": [],
   "source": [
    "df=px.data.tips()\n",
    "df.head()"
   ]
  },
  {
   "cell_type": "code",
   "execution_count": null,
   "id": "28fc75cd",
   "metadata": {},
   "outputs": [],
   "source": [
    "fig=px.violin(df,y='total_bill')\n",
    "fig.show()"
   ]
  },
  {
   "cell_type": "code",
   "execution_count": null,
   "id": "9a043860",
   "metadata": {},
   "outputs": [],
   "source": [
    "fig=px.violin(df,y='total_bill',box=True,points='all')\n",
    "fig.show()"
   ]
  },
  {
   "cell_type": "code",
   "execution_count": null,
   "id": "e635a02c",
   "metadata": {},
   "outputs": [],
   "source": [
    "fig=px.violin(df,y='total_bill',box=True,points='outliers')\n",
    "fig.show()"
   ]
  },
  {
   "cell_type": "code",
   "execution_count": null,
   "id": "bb86627a",
   "metadata": {},
   "outputs": [],
   "source": [
    "fig=px.violin(df,y='tip',color='time',violinmode='overlay',hover_data=df.columns)\n",
    "fig.show()"
   ]
  },
  {
   "cell_type": "code",
   "execution_count": null,
   "id": "e8d10c2b",
   "metadata": {},
   "outputs": [],
   "source": [
    "fig=px.strip(df,x='day',y='tip')\n",
    "fig.show()"
   ]
  },
  {
   "cell_type": "code",
   "execution_count": null,
   "id": "6ed4e1b9",
   "metadata": {},
   "outputs": [],
   "source": [
    "fig=px.violin(df,y='total_bill')\n",
    "fig.update_traces(quartilemethod='inclusive')\n",
    "fig.show()"
   ]
  }
 ],
 "metadata": {
  "kernelspec": {
   "display_name": "jskre",
   "language": "python",
   "name": "python3"
  },
  "language_info": {
   "codemirror_mode": {
    "name": "ipython",
    "version": 3
   },
   "file_extension": ".py",
   "mimetype": "text/x-python",
   "name": "python",
   "nbconvert_exporter": "python",
   "pygments_lexer": "ipython3",
   "version": "3.12.3"
  }
 },
 "nbformat": 4,
 "nbformat_minor": 5
}
